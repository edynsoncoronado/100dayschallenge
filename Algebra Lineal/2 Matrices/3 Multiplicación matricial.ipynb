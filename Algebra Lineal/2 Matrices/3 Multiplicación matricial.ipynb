{
 "cells": [
  {
   "cell_type": "markdown",
   "metadata": {},
   "source": [
    "# Multiplicación matricial\n",
    "Para multiplicar dos matrices solo necesitaremos que se cumpla que la primera matriz tenga el mismo nº de columnas que el nº de filas de la segunda matriz."
   ]
  },
  {
   "cell_type": "markdown",
   "metadata": {},
   "source": [
    "![Title](../../src/multplicacion_matriz.png)"
   ]
  },
  {
   "cell_type": "markdown",
   "metadata": {},
   "source": [
    "El tamaño de la matriz que obtendremos de la multiplicación sera igual al nº de filas de la primera matriz y al nº de columnas de la segunda matri"
   ]
  },
  {
   "cell_type": "code",
   "execution_count": 1,
   "metadata": {},
   "outputs": [],
   "source": [
    "import numpy as np\n",
    "A = np.array([\n",
    "    [3, 1, -2],\n",
    "    [2, 4, 3],\n",
    "    [-1, 3, 1]\n",
    "])\n",
    "B = np.array([\n",
    "    [3, 4],\n",
    "    [2, 5],\n",
    "    [-1, 2]\n",
    "])"
   ]
  },
  {
   "cell_type": "markdown",
   "metadata": {},
   "source": [
    "La multiplicación de matrices no cumple con la propiedad de conmutatividad."
   ]
  },
  {
   "cell_type": "code",
   "execution_count": 2,
   "metadata": {},
   "outputs": [
    {
     "name": "stdout",
     "output_type": "stream",
     "text": [
      "13 13\n",
      "11 34\n",
      "2 13\n"
     ]
    }
   ],
   "source": [
    "ab11 = (3 * 3) + (1 * 2) + (-2 * -1)\n",
    "ab12 = (3 * 4) + (1 * 5) + (-2 * 2)\n",
    "ab21 = (2 * 3) + (4 * 2) + (3 * -1)\n",
    "ab22 = (2 * 4) + (4 * 5) + (3 * 2)\n",
    "ab31 = (-1 * 3) + (3 * 2) + (1 * -1)\n",
    "ab32 = (-1 * 4) + (3 * 5) + (1 * 2)\n",
    "print('{} {}'.format(ab11, ab12))\n",
    "print('{} {}'.format(ab21, ab22))\n",
    "print('{} {}'.format(ab31, ab32))"
   ]
  },
  {
   "cell_type": "code",
   "execution_count": 3,
   "metadata": {},
   "outputs": [
    {
     "data": {
      "text/plain": [
       "array([[13, 13],\n",
       "       [11, 34],\n",
       "       [ 2, 13]])"
      ]
     },
     "execution_count": 3,
     "metadata": {},
     "output_type": "execute_result"
    }
   ],
   "source": [
    "A @ B"
   ]
  }
 ],
 "metadata": {
  "kernelspec": {
   "display_name": "Python 3",
   "language": "python",
   "name": "python3"
  },
  "language_info": {
   "codemirror_mode": {
    "name": "ipython",
    "version": 3
   },
   "file_extension": ".py",
   "mimetype": "text/x-python",
   "name": "python",
   "nbconvert_exporter": "python",
   "pygments_lexer": "ipython3",
   "version": "3.7.1"
  }
 },
 "nbformat": 4,
 "nbformat_minor": 2
}
