{
 "cells": [
  {
   "cell_type": "markdown",
   "metadata": {},
   "source": [
    "# Matriz inversa\n",
    "Es aquela que multiplicada por la matriz Original da como resultado la matriz Identidad."
   ]
  },
  {
   "cell_type": "markdown",
   "metadata": {},
   "source": [
    "## Matriz Original * Matriz Identidad = Matriz Original"
   ]
  },
  {
   "cell_type": "code",
   "execution_count": 1,
   "metadata": {},
   "outputs": [
    {
     "data": {
      "text/plain": [
       "array([[ 2., -1.,  1.],\n",
       "       [-1.,  3., -1.],\n",
       "       [ 1.,  1.,  1.]])"
      ]
     },
     "execution_count": 1,
     "metadata": {},
     "output_type": "execute_result"
    }
   ],
   "source": [
    "import numpy as np\n",
    "A = np.array([\n",
    "    [2, -1, 1],\n",
    "    [-1, 3, -1],\n",
    "    [1, 1, 1]\n",
    "])\n",
    "I = np.eye(3) # Matriz Identidad\n",
    "A @ I"
   ]
  },
  {
   "cell_type": "markdown",
   "metadata": {},
   "source": [
    "## La matriz inversa se puede encontrar por el método de Gauss Jordan o método alternativo."
   ]
  },
  {
   "cell_type": "code",
   "execution_count": 2,
   "metadata": {},
   "outputs": [
    {
     "data": {
      "text/plain": [
       "array([[ 1.  ,  0.5 , -0.5 ],\n",
       "       [ 0.  ,  0.25,  0.25],\n",
       "       [-1.  , -0.75,  1.25]])"
      ]
     },
     "execution_count": 2,
     "metadata": {},
     "output_type": "execute_result"
    }
   ],
   "source": [
    "A_INV = np.linalg.inv(A)\n",
    "A_INV"
   ]
  },
  {
   "cell_type": "markdown",
   "metadata": {},
   "source": [
    "## Matriz Original * Matriz Inversa = Matriz Identidad"
   ]
  },
  {
   "cell_type": "code",
   "execution_count": 3,
   "metadata": {},
   "outputs": [
    {
     "data": {
      "text/plain": [
       "True"
      ]
     },
     "execution_count": 3,
     "metadata": {},
     "output_type": "execute_result"
    }
   ],
   "source": [
    "np.allclose(np.dot(A, A_INV), np.eye(3))"
   ]
  },
  {
   "cell_type": "code",
   "execution_count": 4,
   "metadata": {},
   "outputs": [
    {
     "data": {
      "text/plain": [
       "4.000000000000001"
      ]
     },
     "execution_count": 4,
     "metadata": {},
     "output_type": "execute_result"
    }
   ],
   "source": [
    "np.linalg.det(A) #Determinante de una matriz"
   ]
  },
  {
   "cell_type": "markdown",
   "metadata": {},
   "source": [
    "## Método alternativo"
   ]
  },
  {
   "cell_type": "markdown",
   "metadata": {},
   "source": [
    "![Title](../../src/inverse_matrix_met_alternativo.jpg)"
   ]
  },
  {
   "cell_type": "code",
   "execution_count": 5,
   "metadata": {},
   "outputs": [
    {
     "name": "stdout",
     "output_type": "stream",
     "text": [
      "Help on function inv in module numpy.linalg.linalg:\n",
      "\n",
      "inv(a)\n",
      "    Compute the (multiplicative) inverse of a matrix.\n",
      "    \n",
      "    Given a square matrix `a`, return the matrix `ainv` satisfying\n",
      "    ``dot(a, ainv) = dot(ainv, a) = eye(a.shape[0])``.\n",
      "    \n",
      "    Parameters\n",
      "    ----------\n",
      "    a : (..., M, M) array_like\n",
      "        Matrix to be inverted.\n",
      "    \n",
      "    Returns\n",
      "    -------\n",
      "    ainv : (..., M, M) ndarray or matrix\n",
      "        (Multiplicative) inverse of the matrix `a`.\n",
      "    \n",
      "    Raises\n",
      "    ------\n",
      "    LinAlgError\n",
      "        If `a` is not square or inversion fails.\n",
      "    \n",
      "    Notes\n",
      "    -----\n",
      "    \n",
      "    .. versionadded:: 1.8.0\n",
      "    \n",
      "    Broadcasting rules apply, see the `numpy.linalg` documentation for\n",
      "    details.\n",
      "    \n",
      "    Examples\n",
      "    --------\n",
      "    >>> from numpy.linalg import inv\n",
      "    >>> a = np.array([[1., 2.], [3., 4.]])\n",
      "    >>> ainv = inv(a)\n",
      "    >>> np.allclose(np.dot(a, ainv), np.eye(2))\n",
      "    True\n",
      "    >>> np.allclose(np.dot(ainv, a), np.eye(2))\n",
      "    True\n",
      "    \n",
      "    If a is a matrix object, then the return value is a matrix as well:\n",
      "    \n",
      "    >>> ainv = inv(np.matrix(a))\n",
      "    >>> ainv\n",
      "    matrix([[-2. ,  1. ],\n",
      "            [ 1.5, -0.5]])\n",
      "    \n",
      "    Inverses of several matrices can be computed at once:\n",
      "    \n",
      "    >>> a = np.array([[[1., 2.], [3., 4.]], [[1, 3], [3, 5]]])\n",
      "    >>> inv(a)\n",
      "    array([[[-2. ,  1. ],\n",
      "            [ 1.5, -0.5]],\n",
      "           [[-5. ,  2. ],\n",
      "            [ 3. , -1. ]]])\n",
      "\n"
     ]
    }
   ],
   "source": [
    "help(np.linalg.inv)"
   ]
  }
 ],
 "metadata": {
  "kernelspec": {
   "display_name": "Python 3",
   "language": "python",
   "name": "python3"
  },
  "language_info": {
   "codemirror_mode": {
    "name": "ipython",
    "version": 3
   },
   "file_extension": ".py",
   "mimetype": "text/x-python",
   "name": "python",
   "nbconvert_exporter": "python",
   "pygments_lexer": "ipython3",
   "version": "3.7.1"
  }
 },
 "nbformat": 4,
 "nbformat_minor": 2
}
