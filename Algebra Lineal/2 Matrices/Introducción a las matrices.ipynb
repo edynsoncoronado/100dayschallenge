{
 "cells": [
  {
   "cell_type": "markdown",
   "metadata": {},
   "source": [
    "# Introducción a las matrices\n",
    "Una matriz es una representación de datos."
   ]
  },
  {
   "cell_type": "code",
   "execution_count": 26,
   "metadata": {},
   "outputs": [
    {
     "name": "stdout",
     "output_type": "stream",
     "text": [
      "A = [[ 2 -5 -1]\n",
      " [-1 -7 -3]]\n",
      "m = 2, n = 3\n",
      "A = (2, 3)\n"
     ]
    }
   ],
   "source": [
    "import numpy as np\n",
    "A = np.array([\n",
    "    [2, -5, -1],\n",
    "    [-1, -7, -3]\n",
    "])\n",
    "print('A = {}'.format(A))"
   ]
  },
  {
   "cell_type": "markdown",
   "metadata": {},
   "source": [
    "Donde m = cantidad filas y n = cantidad columnas."
   ]
  },
  {
   "cell_type": "code",
   "execution_count": 29,
   "metadata": {},
   "outputs": [
    {
     "name": "stdout",
     "output_type": "stream",
     "text": [
      "m = 2, n = 3\n",
      "A = (2, 3)\n"
     ]
    }
   ],
   "source": [
    "m = len(A[:,0])\n",
    "n = A.shape[1]\n",
    "print('m = {}, n = {}'.format(m, n))\n",
    "print('A = {}'.format(A.shape))"
   ]
  },
  {
   "cell_type": "markdown",
   "metadata": {},
   "source": [
    "## Matriz Transpuesta"
   ]
  },
  {
   "cell_type": "code",
   "execution_count": 41,
   "metadata": {},
   "outputs": [
    {
     "name": "stdout",
     "output_type": "stream",
     "text": [
      "B = [[3 5 1]\n",
      " [9 3 5]\n",
      " [4 7 8]\n",
      " [3 6 2]]\n",
      "T = [[3 9 4 3]\n",
      " [5 3 7 6]\n",
      " [1 5 8 2]]\n"
     ]
    }
   ],
   "source": [
    "B = np.array([\n",
    "    [3,5,1],\n",
    "    [9,3,5],\n",
    "    [4,7,8],\n",
    "    [3,6,2]\n",
    "])\n",
    "print('B = {}'.format(B))\n",
    "print('T = {}'.format(B.T))"
   ]
  },
  {
   "cell_type": "markdown",
   "metadata": {},
   "source": [
    "## Matriz Identidad"
   ]
  },
  {
   "cell_type": "code",
   "execution_count": 45,
   "metadata": {},
   "outputs": [
    {
     "data": {
      "text/plain": [
       "array([[1., 0., 0.],\n",
       "       [0., 1., 0.],\n",
       "       [0., 0., 1.]])"
      ]
     },
     "execution_count": 45,
     "metadata": {},
     "output_type": "execute_result"
    }
   ],
   "source": [
    "np.identity(3)"
   ]
  },
  {
   "cell_type": "markdown",
   "metadata": {},
   "source": [
    "![title](../../src/intro_matrices.png)"
   ]
  },
  {
   "cell_type": "markdown",
   "metadata": {},
   "source": [
    "![title](../../src/tipo_matrices.png)"
   ]
  },
  {
   "cell_type": "code",
   "execution_count": null,
   "metadata": {},
   "outputs": [],
   "source": []
  }
 ],
 "metadata": {
  "kernelspec": {
   "display_name": "Python 3",
   "language": "python",
   "name": "python3"
  },
  "language_info": {
   "codemirror_mode": {
    "name": "ipython",
    "version": 3
   },
   "file_extension": ".py",
   "mimetype": "text/x-python",
   "name": "python",
   "nbconvert_exporter": "python",
   "pygments_lexer": "ipython3",
   "version": "3.7.1"
  }
 },
 "nbformat": 4,
 "nbformat_minor": 2
}
