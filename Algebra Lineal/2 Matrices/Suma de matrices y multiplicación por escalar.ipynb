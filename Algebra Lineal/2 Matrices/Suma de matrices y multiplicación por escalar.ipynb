{
 "cells": [
  {
   "cell_type": "markdown",
   "metadata": {},
   "source": [
    "# Suma de matrices y multiplicación por escalar\n",
    "Para sumar matrices es importante que sean del mismo tamaño, de lo contrario no podremos realizar la suma."
   ]
  },
  {
   "cell_type": "markdown",
   "metadata": {},
   "source": [
    "![Title](../../src/suma_multiplicacionmatrices.png)"
   ]
  },
  {
   "cell_type": "markdown",
   "metadata": {},
   "source": [
    "## Suma"
   ]
  },
  {
   "cell_type": "code",
   "execution_count": 1,
   "metadata": {},
   "outputs": [
    {
     "data": {
      "text/plain": [
       "array([[  5, -10,   1],\n",
       "       [  7,  -5,  -4],\n",
       "       [  4,   0,   6]])"
      ]
     },
     "execution_count": 1,
     "metadata": {},
     "output_type": "execute_result"
    }
   ],
   "source": [
    "import numpy as np\n",
    "A = np.array([\n",
    "    [2, -5, -1],\n",
    "    [-1, -7, -3],\n",
    "    [-1, -7, -3]\n",
    "])\n",
    "B = np.array([\n",
    "    [3, -5, 2],\n",
    "    [8, 2, -1],\n",
    "    [5, 7, 9]\n",
    "])\n",
    "A + B"
   ]
  },
  {
   "cell_type": "markdown",
   "metadata": {},
   "source": [
    "## Multiplicación por un escalar"
   ]
  },
  {
   "cell_type": "code",
   "execution_count": 2,
   "metadata": {},
   "outputs": [
    {
     "data": {
      "text/plain": [
       "array([[  9, -15,   6],\n",
       "       [ 24,   6,  -3],\n",
       "       [ 15,  21,  27]])"
      ]
     },
     "execution_count": 2,
     "metadata": {},
     "output_type": "execute_result"
    }
   ],
   "source": [
    "B = np.array([\n",
    "    [3, -5, 2],\n",
    "    [8, 2, -1],\n",
    "    [5, 7, 9]\n",
    "])\n",
    "B * 3"
   ]
  },
  {
   "cell_type": "markdown",
   "metadata": {},
   "source": [
    "![Title](../../src/ejercicio_multiplicacion_matrices.png)"
   ]
  },
  {
   "cell_type": "code",
   "execution_count": 3,
   "metadata": {},
   "outputs": [
    {
     "data": {
      "text/plain": [
       "array([[ 1.5,  5. ,  6. ],\n",
       "       [ 2. ,  0. , -3.5]])"
      ]
     },
     "execution_count": 3,
     "metadata": {},
     "output_type": "execute_result"
    }
   ],
   "source": [
    "A = np.array([\n",
    "    [1, 2, 0],\n",
    "    [0, 0, -1],\n",
    "])\n",
    "B = np.array([\n",
    "    [0, 1, 3],\n",
    "    [1, 0, -1]\n",
    "])\n",
    "#2X - 4B = 3A\n",
    "X = (3/2 * A) + (2 * B)\n",
    "X"
   ]
  }
 ],
 "metadata": {
  "kernelspec": {
   "display_name": "Python 3",
   "language": "python",
   "name": "python3"
  },
  "language_info": {
   "codemirror_mode": {
    "name": "ipython",
    "version": 3
   },
   "file_extension": ".py",
   "mimetype": "text/x-python",
   "name": "python",
   "nbconvert_exporter": "python",
   "pygments_lexer": "ipython3",
   "version": "3.7.1"
  }
 },
 "nbformat": 4,
 "nbformat_minor": 2
}
