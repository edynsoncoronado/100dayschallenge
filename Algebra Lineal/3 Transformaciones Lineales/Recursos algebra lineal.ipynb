{
 "cells": [
  {
   "cell_type": "markdown",
   "metadata": {},
   "source": [
    "# Recursos de algebra lineal"
   ]
  },
  {
   "cell_type": "markdown",
   "metadata": {},
   "source": [
    "\n",
    "https://docs.scipy.org/doc/numpy-1.10.4/reference/routines.linalg.html\n",
    "\n",
    "Determinante de matrices\n",
    "https://www.geogebra.org/m/XJqZcvKX\n",
    "\n",
    "Determinante de una matriz de 3x3: método corto (2 de 2)\n",
    "https://es.khanacademy.org/math/algebra-home/alg-matrices/alg-determinants-and-inverses-of-large-matrices/v/finding-the-determinant-of-a-3x3-matrix-method-1\n",
    "\n",
    "Determinante de una matriz 4x4\n",
    "https://www.youtube.com/watch?v=sJ-HD18D1dw\n",
    "\n",
    "Algebra Lineal con Python\n",
    "https://relopezbriega.github.io/blog/2015/06/14/algebra-lineal-con-python/\n",
    "\n",
    "Álgebra Lineal en Python con NumPy (I): Operaciones básicas\n",
    "https://www.pybonacci.org/2012/06/07/algebra-lineal-en-python-con-numpy-i-operaciones-basicas/\n",
    "\n",
    "1.5. Scipy: computación científica de alto nivel¶\n",
    "https://claudiovz.github.io/scipy-lecture-notes-ES/intro/scipy.html#scipy-linalg\n",
    "\n",
    "Quickstart tutorial¶\n",
    "https://docs.scipy.org/doc/numpy/user/quickstart.html\n",
    "\n",
    "Matrix Arithmetics under NumPy and Python\n",
    "https://www.python-course.eu/matrix_arithmetic.php\n",
    "\n",
    "Python Numpy Array Tutorial\n",
    "https://www.datacamp.com/community/tutorials/python-numpy-tutorial?utm_source=adwords_ppc&utm_campaignid=1455363063&utm_adgroupid=65083631748&utm_device=c&utm_keyword=&utm_matchtype=b&utm_network=g&utm_adpostion=1t1&utm_creative=278443377092&utm_targetid=aud-299261629574:dsa-473406585115&utm_loc_interest_ms=&utm_loc_physical_ms=9060924&gclid=CjwKCAjwkcblBRB_EiwAFmfyy6E9wwv544XssBogcZjBr7xP29efNJa3_Njun3AEL7-8zc6SUmTIaxoCwVoQAvD_BwE#array\n",
    "\n",
    "SciPy Cheat Sheet: Linear Algebra in Python \n",
    "https://www.datacamp.com/community/blog/python-scipy-cheat-sheet\n",
    "\n",
    "\n",
    "Python Numpy Tutorial\n",
    "http://cs231n.github.io/python-numpy-tutorial/#numpy\n",
    "\n"
   ]
  }
 ],
 "metadata": {
  "kernelspec": {
   "display_name": "Python 3",
   "language": "python",
   "name": "python3"
  },
  "language_info": {
   "codemirror_mode": {
    "name": "ipython",
    "version": 3
   },
   "file_extension": ".py",
   "mimetype": "text/x-python",
   "name": "python",
   "nbconvert_exporter": "python",
   "pygments_lexer": "ipython3",
   "version": "3.7.1"
  }
 },
 "nbformat": 4,
 "nbformat_minor": 2
}
